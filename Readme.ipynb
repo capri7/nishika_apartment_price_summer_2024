{
 "cells": [
  {
   "cell_type": "markdown",
   "id": "4e66950c-a0d9-4957-b462-c7e5305436bd",
   "metadata": {},
   "source": [
    "# Nishika Apartment Price Prediction - Summer 2024\n",
    "\n",
    "## 概要\n",
    "このプロジェクトは、Nishikaデータサイエンスコンペティション2024年夏に参加した際の成果をまとめたものです。このコンペティションでは、中古マンションの価格予測を行い、上位26.21%という成績を収めました。\n",
    "\n",
    "## プロジェクトの背景\n",
    "日本の不動産市場は変動が激しく、中古マンションの価格予測は難しい課題です。このプロジェクトでは、過去の取引データを基に機械学習アルゴリズムを用いて価格予測モデルを構築し、競争力のあるスコアを目指しました。\n",
    "\n",
    "## 使用した技術\n",
    "・　Python\n",
    "・　Pandas\n",
    "・　NumPy\n",
    "・　Scikit-learn\n",
    "・　XGBoost\n",
    "・　LightGBM\n",
    "・　Matplotlib/Seaborn (可視化)\n",
    "\n",
    "## 特徴量エンジニアリング\n",
    "・　新しい特徴量の作成: 価格予測の精度向上のため、新たな特徴量を追加しました。\n",
    "・　相関分析: 特徴量間の相関を分析し、重要な変数を選択しました。\n",
    "・　データクリーニング: 欠損値の補完や異常値の処理を行いました。\n",
    "\n",
    "## モデルの最適化\n",
    "・　ハイパーパラメータチューニング: GridSearchCVやRandomSearchを使用して最適なパラメータを探索しました。\n",
    "・　アンサンブル学習: 複数のモデルを組み合わせ、予測精度を向上させました。\n",
    "\n",
    "## 成績\n",
    "・　コンペティション順位(暫定）: 27位 (上位26.21%)\n",
    "・　スコア: 0.1132\n",
    "\n",
    "## 今後の課題\n",
    "・　さらなる特徴量エンジニアリングの改善\n",
    "・　より高度なモデルの試行\n",
    "・　他のデータソースの統合による予測精度の向上\n",
    "\n",
    "## 貢献\n",
    "貢献は歓迎です！バグ報告や新しいアイデアがあれば、Issuesに投稿してください。\n",
    "\n",
    "ライセンス\n",
    "このプロジェクトはMITライセンスのもとで公開されています。詳しくはLICENSEファイルをご確認ください。\n"
   ]
  }
 ],
 "metadata": {
  "kernelspec": {
   "display_name": "Python 3 (ipykernel)",
   "language": "python",
   "name": "python3"
  },
  "language_info": {
   "codemirror_mode": {
    "name": "ipython",
    "version": 3
   },
   "file_extension": ".py",
   "mimetype": "text/x-python",
   "name": "python",
   "nbconvert_exporter": "python",
   "pygments_lexer": "ipython3",
   "version": "3.12.2"
  }
 },
 "nbformat": 4,
 "nbformat_minor": 5
}
