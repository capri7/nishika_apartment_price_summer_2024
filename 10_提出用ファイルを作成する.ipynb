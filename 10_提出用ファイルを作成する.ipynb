{
 "cells": [
  {
   "cell_type": "markdown",
   "id": "3f504a5a-3cfd-460a-b811-e2be6b4985a7",
   "metadata": {},
   "source": [
    "## sample submissionに含まれる行の数を確認する"
   ]
  },
  {
   "cell_type": "code",
   "execution_count": 3,
   "id": "d53c65b0-dc3f-48ec-9efd-46eef8039768",
   "metadata": {},
   "outputs": [
    {
     "name": "stdout",
     "output_type": "stream",
     "text": [
      "データセットに含まれる行の数: 54402\n"
     ]
    }
   ],
   "source": [
    "import pandas as pd\n",
    "import os\n",
    "\n",
    "# Sample Submissionの読み込み\n",
    "sample_submission_path = '/Users/hayakawakazue/Downloads/second_apt_2024_summer/sample_submission.csv'\n",
    "sample_submission = pd.read_csv(sample_submission_path)\n",
    "\n",
    "# データセットに含まれる行の数を確認\n",
    "num_rows = sample_submission.shape[0]\n",
    "print(f\"データセットに含まれる行の数: {num_rows}\")"
   ]
  },
  {
   "cell_type": "markdown",
   "id": "d2c74957-ad6e-47f8-bea1-e4af868c6df0",
   "metadata": {},
   "source": [
    "## ファイルの統合"
   ]
  },
  {
   "cell_type": "code",
   "execution_count": 1,
   "id": "92951023-9158-4b2a-9d20-255164c88ee8",
   "metadata": {},
   "outputs": [
    {
     "name": "stdout",
     "output_type": "stream",
     "text": [
      "Missing values after merge: 0\n",
      "ID is in the correct order: True\n",
      "最終的な提出ファイルが/Users/hayakawakazue/Downloads/second_apt_2024_summer/corrected_submission_0807.csvに保存されました。\n"
     ]
    }
   ],
   "source": [
    "import pandas as pd\n",
    "\n",
    "# サンプル提出ファイルのパス\n",
    "sample_submission_path = '/Users/hayakawakazue/Downloads/second_apt_2024_summer/sample_submission.csv'\n",
    "\n",
    "# 提出ファイルのパスと優先度の設定\n",
    "submission_files = {\n",
    "    '/Users/hayakawakazue/Downloads/second_apt_2024_summer/submission/submission_01_02_03_04_05_06_07_15.csv': 2,\n",
    "    '/Users/hayakawakazue/Downloads/second_apt_2024_summer/submission/submission_08_09_10_21_24.csv': 3,\n",
    "    '/Users/hayakawakazue/Downloads/second_apt_2024_summer/submission/submission_11_12_13_14_23.csv': 4,\n",
    "    '/Users/hayakawakazue/Downloads/second_apt_2024_summer/submission/submission_13_27.csv': 1,  # 優先度 1 (最優先)\n",
    "    '/Users/hayakawakazue/Downloads/second_apt_2024_summer/submission/submission_05_06_16_17_18_20_21.csv': 5,\n",
    "    '/Users/hayakawakazue/Downloads/second_apt_2024_summer/submission/submission_18_19_20_21_30_36.csv': 6,\n",
    "    '/Users/hayakawakazue/Downloads/second_apt_2024_summer/submission/submission_12_14_22_23_28_40.csv': 7,\n",
    "    '/Users/hayakawakazue/Downloads/second_apt_2024_summer/submission/submission_17_23_26_29_34_40.csv': 8,\n",
    "    '/Users/hayakawakazue/Downloads/second_apt_2024_summer/submission/submission_08_09_10_24_25_33.csv': 9,\n",
    "    '/Users/hayakawakazue/Downloads/second_apt_2024_summer/submission/submission_31_32_35_36_37_38_39.csv': 10,\n",
    "    '/Users/hayakawakazue/Downloads/second_apt_2024_summer/submission/submission_41_42_43_44_45_46_47.csv': 11\n",
    "}\n",
    "\n",
    "# 全てのデータを格納するためのリスト\n",
    "all_data = []\n",
    "\n",
    "# 各提出ファイルの読み込みと優先度の付与\n",
    "for file_path, priority in submission_files.items():\n",
    "    df = pd.read_csv(file_path, dtype={'ID': str})  # ID列を文字列として読み込み\n",
    "    df['Priority'] = priority\n",
    "    all_data.append(df)\n",
    "\n",
    "# データフレームの統合\n",
    "combined_df = pd.concat(all_data)\n",
    "\n",
    "# 各IDごとに最も優先度が高いデータを選択\n",
    "final_submission = combined_df.sort_values(by='Priority').drop_duplicates(subset='ID', keep='first')\n",
    "\n",
    "# sample_submissionとマージ\n",
    "sample_submission = pd.read_csv(sample_submission_path, dtype={'ID': str})  # ID列を文字列として読み込み\n",
    "final_output = sample_submission[['ID']].merge(final_submission[['ID', '取引価格（総額）_log']], on='ID', how='left')\n",
    "\n",
    "# マージ結果の確認\n",
    "missing_values = final_output['取引価格（総額）_log'].isna().sum()\n",
    "print(f\"Missing values after merge: {missing_values}\")\n",
    "\n",
    "# IDの順序がサンプルファイルと一致しているか確認\n",
    "correct_order = final_output['ID'].equals(sample_submission['ID'])\n",
    "print(f\"ID is in the correct order: {correct_order}\")\n",
    "\n",
    "# 出力ファイルに保存 (BOM付きUTF-8エンコーディング)\n",
    "output_path = '/Users/hayakawakazue/Downloads/second_apt_2024_summer/corrected_submission_0807.csv'\n",
    "final_output.to_csv(output_path, index=False, encoding='utf-8-sig')\n",
    "\n",
    "print(f\"最終的な提出ファイルが{output_path}に保存されました。\")\n"
   ]
  }
 ],
 "metadata": {
  "kernelspec": {
   "display_name": "Python 3 (ipykernel)",
   "language": "python",
   "name": "python3"
  },
  "language_info": {
   "codemirror_mode": {
    "name": "ipython",
    "version": 3
   },
   "file_extension": ".py",
   "mimetype": "text/x-python",
   "name": "python",
   "nbconvert_exporter": "python",
   "pygments_lexer": "ipython3",
   "version": "3.12.2"
  }
 },
 "nbformat": 4,
 "nbformat_minor": 5
}
