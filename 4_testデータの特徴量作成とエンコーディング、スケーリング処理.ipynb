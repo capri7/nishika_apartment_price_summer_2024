{
 "cells": [
  {
   "cell_type": "code",
   "execution_count": 1,
   "id": "dc5bf941-981c-47a2-9907-ec8ccfb3302e",
   "metadata": {
    "scrolled": true
   },
   "outputs": [
    {
     "name": "stdout",
     "output_type": "stream",
     "text": [
      "Data types of each column:\n",
      " ID              int64\n",
      "種類             object\n",
      "価格情報区分         object\n",
      "地域            float64\n",
      "市区町村コード         int64\n",
      "都道府県名          object\n",
      "市区町村名          object\n",
      "地区名            object\n",
      "最寄駅：名称         object\n",
      "最寄駅：距離（分）     float64\n",
      "間取り            object\n",
      "面積（㎡）         float64\n",
      "土地の形状         float64\n",
      "間口            float64\n",
      "延床面積（㎡）       float64\n",
      "建築年             int64\n",
      "建物の構造          object\n",
      "用途             object\n",
      "今後の利用目的        object\n",
      "前面道路：方位       float64\n",
      "前面道路：種類       float64\n",
      "前面道路：幅員（ｍ）    float64\n",
      "都市計画           object\n",
      "建ぺい率（％）       float64\n",
      "容積率（％）        float64\n",
      "取引時点            int64\n",
      "改装             object\n",
      "取引の事情等         object\n",
      "1953年以前          bool\n",
      "dtype: object\n",
      "Numerical columns:\n",
      " Index(['ID', '地域', '市区町村コード', '最寄駅：距離（分）', '面積（㎡）', '土地の形状', '間口', '延床面積（㎡）',\n",
      "       '建築年', '前面道路：方位', '前面道路：種類', '前面道路：幅員（ｍ）', '建ぺい率（％）', '容積率（％）', '取引時点'],\n",
      "      dtype='object')\n"
     ]
    }
   ],
   "source": [
    "import pandas as pd\n",
    "import numpy as np\n",
    "\n",
    "# テストデータの読み込み\n",
    "data_path = '/Users/hayakawakazue/Downloads/second_apt_2024_summer/test/test_13_27/test_13_27_clipped_outliers_transaction_date.csv'\n",
    "test_data = pd.read_csv(data_path, low_memory=False)\n",
    "\n",
    "# データ型の確認\n",
    "print(\"Data types of each column:\\n\", test_data.dtypes)\n",
    "\n",
    "# 数値型の列を取得\n",
    "numerical_cols = test_data.select_dtypes(include=['int64', 'float64']).columns\n",
    "print(\"Numerical columns:\\n\", numerical_cols)"
   ]
  },
  {
   "cell_type": "markdown",
   "id": "8c8e669d-1b67-43f6-b7cb-cda20a7efb4c",
   "metadata": {},
   "source": [
    "## 新しい特徴量を作成する"
   ]
  },
  {
   "cell_type": "code",
   "execution_count": 2,
   "id": "1ae76dbb-ff68-4d66-98ef-6a424428c690",
   "metadata": {},
   "outputs": [
    {
     "name": "stdout",
     "output_type": "stream",
     "text": [
      "    取引年  築年数  取引月   面積/築年数比   駅距離_面積比  容積率_建ぺい率比   面積×容積率  建築年×建ぺい率\n",
      "0  2023    7    9  5.000000  0.114286        2.5   7000.0  161280.0\n",
      "1  2023    7    9  5.714286  0.075000        2.5   8000.0  161280.0\n",
      "2  2023    3    9  8.333333  0.160000        2.5   5000.0  161600.0\n",
      "3  2023   10    9  5.000000  0.100000        2.5  10000.0  161040.0\n",
      "4  2023   23    9  1.521739  0.228571        2.5   7000.0  160000.0\n",
      "新しい特徴量を含むデータを保存しました: /Users/hayakawakazue/Downloads/second_apt_2024_summer/test/test_13_27/test_13_27_with_new_features1.csv\n"
     ]
    }
   ],
   "source": [
    "import pandas as pd\n",
    "import numpy as np\n",
    "import seaborn as sns\n",
    "\n",
    "# テストデータの読み込み\n",
    "data_path = '/Users/hayakawakazue/Downloads/second_apt_2024_summer/test/test_13_27/test_13_27_clipped_outliers_transaction_date.csv'\n",
    "test_data = pd.read_csv(data_path, low_memory=False)\n",
    "\n",
    "# 取引時点から年を抽出\n",
    "test_data['取引年'] = test_data['取引時点'].astype(str).str[:4].astype(int)\n",
    "\n",
    "# 築年数を計算（取引年 - 建築年）\n",
    "test_data['築年数'] = test_data['取引年'] - test_data['建築年']\n",
    "\n",
    "# 取引月を抽出\n",
    "test_data['取引月'] = test_data['取引時点'].apply(lambda x: int(str(x)[4:6]))\n",
    "\n",
    "# 面積/築年数比を計算\n",
    "test_data['面積/築年数比'] = test_data['面積（㎡）'] / test_data['築年数']\n",
    "\n",
    "# 駅距離/面積の計算\n",
    "test_data['駅距離_面積比'] = test_data['最寄駅：距離（分）'] / test_data['面積（㎡）']\n",
    "\n",
    "# 容積率と建ぺい率の比率\n",
    "test_data['容積率_建ぺい率比'] = test_data['容積率（％）'] / test_data['建ぺい率（％）']\n",
    "\n",
    "# 面積と容積率の交互作用\n",
    "test_data['面積×容積率'] = test_data['面積（㎡）'] * test_data['容積率（％）']\n",
    "\n",
    "# 建築年と建ぺい率の交互作用\n",
    "test_data['建築年×建ぺい率'] = test_data['建築年'] * test_data['建ぺい率（％）']\n",
    "\n",
    "# 特徴量の確認\n",
    "print(test_data[['取引年', '築年数', '取引月', '面積/築年数比', '駅距離_面積比', '容積率_建ぺい率比', '面積×容積率', '建築年×建ぺい率']].head())\n",
    "\n",
    "# 新しい特徴量を含むデータを保存\n",
    "output_path = '/Users/hayakawakazue/Downloads/second_apt_2024_summer/test/test_13_27/test_13_27_with_new_features1.csv'\n",
    "test_data.to_csv(output_path, index=False)\n",
    "print(f\"新しい特徴量を含むデータを保存しました: {output_path}\")\n"
   ]
  },
  {
   "cell_type": "markdown",
   "id": "856a1d42-8e8b-4deb-a41f-54a942e00e8d",
   "metadata": {},
   "source": [
    "## 目的変数を使用して特徴量を作成する\n",
    "データリーケージを防ぐためトレインデータはクロスバリデーションを用いて計算しています。"
   ]
  },
  {
   "cell_type": "code",
   "execution_count": 3,
   "id": "9a154acc-8f42-43d5-9819-4c38f7204552",
   "metadata": {},
   "outputs": [
    {
     "name": "stdout",
     "output_type": "stream",
     "text": [
      "   エリア人気度スコア  長期価格トレンド    建築年スコア\n",
      "0   7.560311  7.581109  7.635302\n",
      "1   7.560311  7.632346  7.635302\n",
      "2   7.560311  7.459076  7.655477\n",
      "3   7.560311  7.664939  7.584905\n",
      "4   7.560311  7.446411  7.492349\n",
      "       エリア人気度スコア  長期価格トレンド    建築年スコア\n",
      "23153   6.759613  7.343557  7.289059\n",
      "23154   6.759613  7.171763  7.118867\n",
      "23155   6.759613  7.205725  7.125723\n",
      "23156   6.759613  7.357532  7.368283\n",
      "23157   6.759613  7.357532  7.368283\n",
      "新しい特徴量を含むデータを保存しました: /Users/hayakawakazue/Downloads/second_apt_2024_summer/test/test_13_27/test_13_27_with_new_features2.csv\n"
     ]
    }
   ],
   "source": [
    "import pandas as pd\n",
    "import numpy as np\n",
    "\n",
    "# トレインデータの読み込み\n",
    "train_data_path = '/Users/hayakawakazue/Downloads/second_apt_2024_summer/train/train_13_27/train_13_27_with_new_features2.csv'\n",
    "train_data = pd.read_csv(train_data_path, low_memory=False)\n",
    "\n",
    "# テストデータの読み込み\n",
    "test_data_path = '/Users/hayakawakazue/Downloads/second_apt_2024_summer/test/test_13_27/test_13_27_with_new_features1.csv'\n",
    "test_data = pd.read_csv(test_data_path, low_memory=False)\n",
    "\n",
    "# エリア人気度スコアの計算（トレインデータから）\n",
    "area_popularity = train_data.groupby('市区町村コード')['取引価格（総額）_log'].mean().reset_index()\n",
    "area_popularity.columns = ['市区町村コード', 'エリア人気度スコア']\n",
    "\n",
    "# 新しい長期価格トレンドの計算（面積と建築年を使用）\n",
    "train_data['面積_建築年比'] = train_data['面積（㎡）'] / train_data['建築年']\n",
    "long_term_trend = train_data.groupby('面積_建築年比')['取引価格（総額）_log'].mean().reset_index()\n",
    "long_term_trend.columns = ['面積_建築年比', '長期価格トレンド']\n",
    "\n",
    "# 建築年スコアの計算（トレインデータから）\n",
    "train_data['建築年'] = train_data['建築年'].astype(int)\n",
    "year_built_score = train_data.groupby('建築年')['取引価格（総額）_log'].mean().reset_index()\n",
    "year_built_score.columns = ['建築年', '建築年スコア']\n",
    "\n",
    "# テストデータにエリア人気度スコアを追加\n",
    "test_data = test_data.merge(area_popularity, on='市区町村コード', how='left')\n",
    "\n",
    "# テストデータに長期価格トレンドを追加\n",
    "test_data['面積_建築年比'] = test_data['面積（㎡）'] / test_data['建築年']\n",
    "test_data = test_data.merge(long_term_trend, on='面積_建築年比', how='left')\n",
    "\n",
    "# テストデータに建築年スコアを追加\n",
    "test_data = test_data.merge(year_built_score, on='建築年', how='left')\n",
    "\n",
    "# 結果を確認\n",
    "print(test_data[['エリア人気度スコア', '長期価格トレンド', '建築年スコア']].head())\n",
    "print(test_data[['エリア人気度スコア', '長期価格トレンド', '建築年スコア']].tail())\n",
    "\n",
    "# 新しい特徴量を含むデータを保存\n",
    "output_path = '/Users/hayakawakazue/Downloads/second_apt_2024_summer/test/test_13_27/test_13_27_with_new_features2.csv'\n",
    "test_data.to_csv(output_path, index=False)\n",
    "print(f\"新しい特徴量を含むデータを保存しました: {output_path}\")\n"
   ]
  },
  {
   "cell_type": "markdown",
   "id": "e793f40b-12f9-4d72-a3e1-a2f6663c7012",
   "metadata": {},
   "source": [
    "## ワンポットエンコーディングを適用する"
   ]
  },
  {
   "cell_type": "code",
   "execution_count": 4,
   "id": "2f3debea-53b9-449d-840f-4a2ece9a6a54",
   "metadata": {},
   "outputs": [
    {
     "name": "stdout",
     "output_type": "stream",
     "text": [
      "         ID        種類  価格情報区分  地域  市区町村コード 都道府県名 市区町村名  地区名  最寄駅：名称  \\\n",
      "0  13000559  中古マンション等  成約価格情報 NaN    13101   東京都  千代田区  岩本町     岩本町   \n",
      "1  13000560  中古マンション等  成約価格情報 NaN    13101   東京都  千代田区  岩本町     岩本町   \n",
      "2  13000561  中古マンション等  成約価格情報 NaN    13101   東京都  千代田区  岩本町     岩本町   \n",
      "3  13000562  中古マンション等  成約価格情報 NaN    13101   東京都  千代田区  岩本町     秋葉原   \n",
      "4  13000563  中古マンション等  成約価格情報 NaN    13101   東京都  千代田区  岩本町  神田(東京)   \n",
      "\n",
      "   最寄駅：距離（分）  ...  都市計画_調整区域  都市計画_近隣商業  都市計画_都計外  都市計画_非線引き  都市計画_１中住専  \\\n",
      "0        4.0  ...        0.0        0.0       0.0        0.0        0.0   \n",
      "1        3.0  ...        0.0        0.0       0.0        0.0        0.0   \n",
      "2        4.0  ...        0.0        0.0       0.0        0.0        0.0   \n",
      "3        5.0  ...        0.0        0.0       0.0        0.0        0.0   \n",
      "4        8.0  ...        0.0        0.0       0.0        0.0        0.0   \n",
      "\n",
      "  都市計画_１低住専 都市計画_１種住居  都市計画_２中住専  都市計画_２低住専  都市計画_２種住居  \n",
      "0       0.0       0.0        0.0        0.0        0.0  \n",
      "1       0.0       0.0        0.0        0.0        0.0  \n",
      "2       0.0       0.0        0.0        0.0        0.0  \n",
      "3       0.0       0.0        0.0        0.0        0.0  \n",
      "4       0.0       0.0        0.0        0.0        0.0  \n",
      "\n",
      "[5 rows x 128 columns]\n",
      "エンコードされたデータを保存しました: /Users/hayakawakazue/Downloads/second_apt_2024_summer/test/test_13_27/test_13_27_with_onehot_encoded_features.csv\n"
     ]
    }
   ],
   "source": [
    "import pandas as pd\n",
    "import numpy as np\n",
    "from sklearn.preprocessing import OneHotEncoder\n",
    "import joblib\n",
    "\n",
    "# テストデータの読み込み\n",
    "test_data_path = '/Users/hayakawakazue/Downloads/second_apt_2024_summer/test/test_13_27/test_13_27_with_new_features2.csv'\n",
    "test_data = pd.read_csv(test_data_path, low_memory=False)\n",
    "\n",
    "# ワンホットエンコーダをロードする\n",
    "onehot_encoder_path = '/Users/hayakawakazue/Downloads/second_apt_2024_summer/train/train_13_27/onehot_encoder.pkl'\n",
    "onehot_encoder = joblib.load(onehot_encoder_path)\n",
    "\n",
    "# ワンホットエンコーディングを適用するカテゴリ変数\n",
    "categorical_columns = ['間取り', '建物の構造', '都市計画']\n",
    "\n",
    "# ワンホットエンコーディングを適用\n",
    "encoded_categorical_data = onehot_encoder.transform(test_data[categorical_columns])\n",
    "encoded_categorical_df = pd.DataFrame(encoded_categorical_data, columns=onehot_encoder.get_feature_names_out(categorical_columns))\n",
    "\n",
    "# 元のデータフレームにエンコードしたデータを結合\n",
    "test_data = test_data.drop(columns=categorical_columns)\n",
    "test_data = pd.concat([test_data.reset_index(drop=True), encoded_categorical_df.reset_index(drop=True)], axis=1)\n",
    "\n",
    "# データの確認\n",
    "print(test_data.head())\n",
    "\n",
    "# エンコードされたデータの保存\n",
    "test_encoded_path = '/Users/hayakawakazue/Downloads/second_apt_2024_summer/test/test_13_27/test_13_27_with_onehot_encoded_features.csv'\n",
    "test_data.to_csv(test_encoded_path, index=False)\n",
    "print(f\"エンコードされたデータを保存しました: {test_encoded_path}\")\n"
   ]
  },
  {
   "cell_type": "markdown",
   "id": "5cbdc405-7b55-4c2e-b439-6105f01c66c6",
   "metadata": {},
   "source": [
    "## スケーリングを適用する"
   ]
  },
  {
   "cell_type": "code",
   "execution_count": 5,
   "id": "0161dada-ac3c-4b0a-af7c-ea6272afedd9",
   "metadata": {},
   "outputs": [
    {
     "name": "stdout",
     "output_type": "stream",
     "text": [
      "    市区町村コード  最寄駅：距離（分）     面積（㎡）       建築年   建ぺい率（％）    容積率（％）      取引時点  \\\n",
      "0 -0.631966  -0.728486 -0.746236  1.431135  1.215581 -0.778029  1.312732   \n",
      "1 -0.631966  -0.944174 -0.538127  1.431135  1.215581 -0.778029  1.312732   \n",
      "2 -0.631966  -0.728486 -1.162454  1.740295  1.215581 -0.778029  1.312732   \n",
      "3 -0.631966  -0.512798 -0.121909  1.199266  1.215581 -0.778029  1.312732   \n",
      "4 -0.631966   0.134267 -0.746236  0.194497  1.215581 -0.778029  1.312732   \n",
      "\n",
      "       取引年       築年数       取引月  ...  都市計画_調整区域  都市計画_近隣商業  都市計画_都計外  \\\n",
      "0  1.30881 -0.890499  0.487203  ...        0.0        0.0       0.0   \n",
      "1  1.30881 -0.890499  0.487203  ...        0.0        0.0       0.0   \n",
      "2  1.30881 -1.195310  0.487203  ...        0.0        0.0       0.0   \n",
      "3  1.30881 -0.661891  0.487203  ...        0.0        0.0       0.0   \n",
      "4  1.30881  0.328743  0.487203  ...        0.0        0.0       0.0   \n",
      "\n",
      "   都市計画_非線引き  都市計画_１中住専  都市計画_１低住専  都市計画_１種住居  都市計画_２中住専  都市計画_２低住専 都市計画_２種住居  \n",
      "0        0.0        0.0        0.0        0.0        0.0        0.0       0.0  \n",
      "1        0.0        0.0        0.0        0.0        0.0        0.0       0.0  \n",
      "2        0.0        0.0        0.0        0.0        0.0        0.0       0.0  \n",
      "3        0.0        0.0        0.0        0.0        0.0        0.0       0.0  \n",
      "4        0.0        0.0        0.0        0.0        0.0        0.0       0.0  \n",
      "\n",
      "[5 rows x 128 columns]\n",
      "予測の準備が出来たデータセットを保存しました: /Users/hayakawakazue/Downloads/second_apt_2024_summer/test/test_13_27/test_13_27_scaled.csv\n"
     ]
    }
   ],
   "source": [
    "import pandas as pd\n",
    "import numpy as np\n",
    "from sklearn.preprocessing import StandardScaler\n",
    "import joblib\n",
    "\n",
    "# テストデータの読み込み\n",
    "data_path = '/Users/hayakawakazue/Downloads/second_apt_2024_summer/test/test_13_27/test_13_27_with_onehot_encoded_features.csv'\n",
    "test_data = pd.read_csv(data_path, low_memory=False)\n",
    "\n",
    "# スケーリングを適用する数値変数のリスト\n",
    "numeric_columns = [\n",
    "    '市区町村コード', '最寄駅：距離（分）', '面積（㎡）', '建築年', '建ぺい率（％）', '容積率（％）', \n",
    "    '取引時点', '取引年', '築年数', '取引月', '面積/築年数比', '駅距離_面積比', \n",
    "    '容積率_建ぺい率比', '面積×容積率', '建築年×建ぺい率', 'エリア人気度スコア', \n",
    "    '長期価格トレンド', '建築年スコア'\n",
    "]\n",
    "\n",
    "# 数値変数の選択\n",
    "X_test_numeric = test_data[numeric_columns].copy()\n",
    "\n",
    "# 無限大や非常に大きな値をチェックして処理\n",
    "X_test_numeric.replace([np.inf, -np.inf], np.nan, inplace=True)\n",
    "X_test_numeric.fillna(X_test_numeric.mean(), inplace=True)\n",
    "\n",
    "# スケーラーを読み込む\n",
    "scaler_path = '/Users/hayakawakazue/Downloads/second_apt_2024_summer/train/train_13_27/scaler.pkl'\n",
    "scaler = joblib.load(scaler_path)\n",
    "\n",
    "# スケーリングの適用\n",
    "X_test_numeric_scaled = scaler.transform(X_test_numeric)\n",
    "\n",
    "# スケーリング後のデータフレームに変換\n",
    "X_test_numeric_scaled_df = pd.DataFrame(X_test_numeric_scaled, columns=numeric_columns)\n",
    "\n",
    "# ワンホットエンコーディングされたカテゴリ変数を選択\n",
    "X_test_categorical = test_data.drop(columns=numeric_columns)\n",
    "\n",
    "# スケーリングされた数値変数とワンホットエンコーディングされたカテゴリ変数を結合\n",
    "X_test_scaled_df = pd.concat([X_test_numeric_scaled_df, X_test_categorical.reset_index(drop=True)], axis=1)\n",
    "\n",
    "# ID列を追加\n",
    "if 'ID' in test_data.columns:\n",
    "    X_test_scaled_df['ID'] = test_data['ID'].values\n",
    "\n",
    "# 前処理済みのデータを保存\n",
    "test_scaled_path = '/Users/hayakawakazue/Downloads/second_apt_2024_summer/test/test_13_27/test_13_27_scaled.csv'\n",
    "X_test_scaled_df.to_csv(test_scaled_path, index=False)\n",
    "\n",
    "print(X_test_scaled_df.head())\n",
    "print(f\"予測の準備が出来たデータセットを保存しました: {test_scaled_path}\")\n"
   ]
  },
  {
   "cell_type": "markdown",
   "id": "8638b63e-9a95-4a05-a2bd-1994e7bb3ab0",
   "metadata": {},
   "source": [
    "特徴量のリストを表示する"
   ]
  },
  {
   "cell_type": "code",
   "execution_count": 6,
   "id": "9790fefd-f1af-4ed2-b419-e29060a8d2bd",
   "metadata": {},
   "outputs": [
    {
     "name": "stdout",
     "output_type": "stream",
     "text": [
      "データセットに含まれる列の数: 128\n",
      "['市区町村コード', '最寄駅：距離（分）', '面積（㎡）', '建築年', '建ぺい率（％）', '容積率（％）', '取引時点', '取引年', '築年数', '取引月', '面積/築年数比', '駅距離_面積比', '容積率_建ぺい率比', '面積×容積率', '建築年×建ぺい率', 'エリア人気度スコア', '長期価格トレンド', '建築年スコア', 'ID', '種類', '価格情報区分', '地域', '都道府県名', '市区町村名', '地区名', '最寄駅：名称', '土地の形状', '間口', '延床面積（㎡）', '用途', '今後の利用目的', '前面道路：方位', '前面道路：種類', '前面道路：幅員（ｍ）', '改装', '取引の事情等', '1953年以前', '面積_建築年比', '間取り_オープンフロア', '間取り_スタジオ', '間取り_メゾネット', '間取り_１ＤＫ', '間取り_１ＤＫ＋Ｓ', '間取り_１Ｋ', '間取り_１Ｋ＋Ｓ', '間取り_１Ｌ', '間取り_１Ｌ＋Ｓ', '間取り_１ＬＤ＋Ｓ', '間取り_１ＬＤＫ', '間取り_１ＬＤＫ＋Ｋ', '間取り_１ＬＤＫ＋Ｓ', '間取り_１ＬＫ', '間取り_１ＬＫ＋Ｓ', '間取り_１Ｒ', '間取り_１Ｒ＋Ｓ', '間取り_２Ｄ', '間取り_２ＤＫ', '間取り_２ＤＫ＋Ｓ', '間取り_２Ｋ', '間取り_２Ｋ＋Ｓ', '間取り_２Ｌ', '間取り_２Ｌ＋Ｓ', '間取り_２ＬＤ', '間取り_２ＬＤ＋Ｓ', '間取り_２ＬＤＫ', '間取り_２ＬＤＫ＋Ｓ', '間取り_２ＬＫ', '間取り_２ＬＫ＋Ｓ', '間取り_３ＤＫ', '間取り_３ＤＫ＋Ｓ', '間取り_３Ｋ', '間取り_３Ｋ＋Ｓ', '間取り_３ＬＤ', '間取り_３ＬＤ＋Ｓ', '間取り_３ＬＤＫ', '間取り_３ＬＤＫ＋Ｋ', '間取り_３ＬＤＫ＋Ｓ', '間取り_３ＬＫ', '間取り_３ＬＫ＋Ｓ', '間取り_４ＤＫ', '間取り_４ＤＫ＋Ｓ', '間取り_４Ｋ', '間取り_４Ｌ', '間取り_４Ｌ＋Ｋ', '間取り_４ＬＤＫ', '間取り_４ＬＤＫ＋Ｋ', '間取り_４ＬＤＫ＋Ｓ', '間取り_５ＤＫ', '間取り_５Ｋ', '間取り_５ＬＤＫ', '間取り_５ＬＤＫ＋Ｓ', '間取り_６ＤＫ', '間取り_６ＤＫ＋Ｓ', '間取り_６Ｋ', '間取り_６ＬＤＫ', '間取り_６ＬＤＫ＋Ｓ', '間取り_７ＬＤＫ', '間取り_７ＬＤＫ＋Ｓ', '間取り_８ＬＤＫ', '間取り_８ＬＤＫ＋Ｓ', '建物の構造_ブロック造', '建物の構造_木造', '建物の構造_軽量鉄骨造', '建物の構造_鉄骨造', '建物の構造_ＲＣ', '建物の構造_ＲＣ、ブロック造', '建物の構造_ＲＣ、木造', '建物の構造_ＲＣ、軽量鉄骨造', '建物の構造_ＲＣ、鉄骨造', '建物の構造_ＳＲＣ', '建物の構造_ＳＲＣ、鉄骨造', '建物の構造_ＳＲＣ、ＲＣ', '都市計画_商業', '都市計画_工業', '都市計画_工業専用', '都市計画_準住居', '都市計画_準工業', '都市計画_準都計', '都市計画_調整区域', '都市計画_近隣商業', '都市計画_都計外', '都市計画_非線引き', '都市計画_１中住専', '都市計画_１低住専', '都市計画_１種住居', '都市計画_２中住専', '都市計画_２低住専', '都市計画_２種住居']\n"
     ]
    }
   ],
   "source": [
    "import pandas as pd\n",
    "import numpy as np\n",
    "\n",
    "# テストデータの読み込み\n",
    "test_data_path = '/Users/hayakawakazue/Downloads/second_apt_2024_summer/test/test_13_27/test_13_27_scaled.csv'\n",
    "test_data = pd.read_csv(test_data_path, low_memory=False)\n",
    "\n",
    "# 列の数を確認\n",
    "column_count = test_data.shape[1]\n",
    "print(f\"データセットに含まれる列の数: {column_count}\")\n",
    "\n",
    "# カラム名のリストを表示\n",
    "print(test_data.columns.tolist())\n"
   ]
  },
  {
   "cell_type": "markdown",
   "id": "f9113828-458a-4cd1-b415-c4c92b486754",
   "metadata": {},
   "source": [
    "## 取引価格_logを予測する"
   ]
  },
  {
   "cell_type": "code",
   "execution_count": 4,
   "id": "e35a6e36-2434-4717-8b11-3f2468d044e3",
   "metadata": {},
   "outputs": [
    {
     "name": "stdout",
     "output_type": "stream",
     "text": [
      "予測結果を保存しました: /Users/hayakawakazue/Downloads/second_apt_2024_summer/submission/submission_13_27.csv\n"
     ]
    }
   ],
   "source": [
    "import pandas as pd\n",
    "import numpy as np\n",
    "import joblib\n",
    "import os\n",
    "\n",
    "# モデルとテストデータのパス\n",
    "model_path = '/Users/hayakawakazue/Downloads/second_apt_2024_summer/model/ensemble_model_0802_2.joblib'\n",
    "test_data_path = '/Users/hayakawakazue/Downloads/second_apt_2024_summer/test/test_13_27/test_13_27_scaled.csv'\n",
    "submission_path = '/Users/hayakawakazue/Downloads/second_apt_2024_summer/submission/submission_13_27.csv'\n",
    "\n",
    "# モデルのロード\n",
    "model = joblib.load(model_path)\n",
    "\n",
    "# テストデータの読み込み\n",
    "test_data = pd.read_csv(test_data_path)\n",
    "\n",
    "# テストデータからID列を抽出\n",
    "test_ids = test_data['ID']\n",
    "\n",
    "# モデルのトレーニングに使用した特徴量（順序を一致させる）\n",
    "selected_features = [\n",
    "    '長期価格トレンド', 'エリア人気度スコア', '市区町村コード', '面積（㎡）',\n",
    "    '取引時点', '駅距離_面積比', '面積/築年数比', '建築年スコア', '築年数', \n",
    "    '建築年', '建築年×建ぺい率'\n",
    "]\n",
    "\n",
    "# 予測に使用する特徴量を選択し、トレーニング時の順序に合わせる\n",
    "test_features = test_data[selected_features].copy()\n",
    "\n",
    "# 無限大や非常に大きな値をチェックして処理\n",
    "test_features.replace([np.inf, -np.inf], np.nan, inplace=True)\n",
    "test_features.fillna(test_features.mean(), inplace=True)\n",
    "\n",
    "# 取引価格_logの予測\n",
    "predictions = model.predict(test_features)\n",
    "\n",
    "# 予測結果をテストデータに追加\n",
    "test_data['取引価格（総額）_log'] = predictions\n",
    "\n",
    "# 必要な列だけを残して他の列を削除\n",
    "submission_df = test_data[['ID', '取引価格（総額）_log']]\n",
    "\n",
    "# ディレクトリが存在するか確認し、存在しない場合は作成\n",
    "save_dir = os.path.dirname(submission_path)\n",
    "if not os.path.exists(save_dir):\n",
    "    os.makedirs(save_dir)\n",
    "\n",
    "# 提出ファイルを保存\n",
    "submission_df.to_csv(submission_path, index=False)\n",
    "\n",
    "print(f\"予測結果を保存しました: {submission_path}\")\n"
   ]
  },
  {
   "cell_type": "code",
   "execution_count": null,
   "id": "36522948-e045-4b8b-96b1-44b7e6d9097b",
   "metadata": {},
   "outputs": [],
   "source": []
  }
 ],
 "metadata": {
  "kernelspec": {
   "display_name": "Python 3 (ipykernel)",
   "language": "python",
   "name": "python3"
  },
  "language_info": {
   "codemirror_mode": {
    "name": "ipython",
    "version": 3
   },
   "file_extension": ".py",
   "mimetype": "text/x-python",
   "name": "python",
   "nbconvert_exporter": "python",
   "pygments_lexer": "ipython3",
   "version": "3.12.2"
  }
 },
 "nbformat": 4,
 "nbformat_minor": 5
}
